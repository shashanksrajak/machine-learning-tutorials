{
 "cells": [
  {
   "cell_type": "markdown",
   "metadata": {},
   "source": [
    "# Logistic Regression\n",
    "\n",
    "Logistic regression is a regression technique for classification of categorical values. As compared to Linear Regression which is mainly used for predicting numerical continuous values, Logistic Regression is used to predict categorical values.\n",
    "\n",
    "## Sigmoid Function\n",
    "\n",
    "The central theme of a logistic regression revolves around Sigmoid Function which is defined as below:\n",
    "\n",
    "$f(z) = \\frac{1}{1+e^{-z}}$\n",
    "\n",
    "Here, we pass the equation for linear regression $ y = wx + b $ as input to the sigmoid function.\n",
    "\n",
    "So the final equation for Logistic Regression looks like this:\n",
    "\n",
    "$f(z) = \\frac{1}{1+e^{-(wx+b)}} $"
   ]
  }
 ],
 "metadata": {
  "kernelspec": {
   "display_name": "dsai",
   "language": "python",
   "name": "python3"
  },
  "language_info": {
   "name": "python",
   "version": "3.13.1"
  }
 },
 "nbformat": 4,
 "nbformat_minor": 2
}
