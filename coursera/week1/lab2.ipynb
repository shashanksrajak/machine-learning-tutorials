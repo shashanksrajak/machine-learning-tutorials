{
 "cells": [
  {
   "cell_type": "markdown",
   "metadata": {},
   "source": [
    "### Lab Assignment 2\n",
    "\n",
    "**Implement cost function for a single feature (univariate) linear regression**\n",
    "\n",
    "---------"
   ]
  },
  {
   "cell_type": "markdown",
   "metadata": {},
   "source": [
    "**Cost function**\n",
    "\n",
    "The equation for cost with one variable is:\n",
    "  $$J(w,b) = \\frac{1}{2m} \\sum\\limits_{i = 0}^{m-1} (f_{w,b}(x^{(i)}) - y^{(i)})^2 \\tag{1}$$ \n",
    " \n",
    "where \n",
    "  $$f_{w,b}(x^{(i)}) = wx^{(i)} + b \\tag{2}$$\n",
    "\n",
    "\n",
    "This cost is average cost for the whole dataset, we calculate y_predicted and take the sqauared differences of each instance and average it for the whole dataset. That is our cost!\n",
    "\n",
    "Our goal will be to minimize this cost. But first lets calculate the cost."
   ]
  },
  {
   "cell_type": "code",
   "execution_count": 1,
   "metadata": {},
   "outputs": [],
   "source": [
    "import pandas as pd\n",
    "import numpy as np\n",
    "import matplotlib.pyplot as plt"
   ]
  },
  {
   "cell_type": "code",
   "execution_count": 3,
   "metadata": {},
   "outputs": [],
   "source": [
    "df = pd.read_csv(\"areas.csv\")\n",
    "\n",
    "x_train = df[\"area\"]\n",
    "y_train = df[\"prices\"]"
   ]
  },
  {
   "cell_type": "code",
   "execution_count": 6,
   "metadata": {},
   "outputs": [],
   "source": [
    "# define the cost function for a single feature\n",
    "\n",
    "def compute_cost(x, y, w, b):\n",
    "    \"\"\"\n",
    "    Compute the cost function\n",
    "    \n",
    "    Args:\n",
    "        x (ndarray) : 1 D vector of feature\n",
    "        y (ndarray) : 1 D vector of labels\n",
    "        w,b (scalar) : parameters of model\n",
    "        \n",
    "    Returns:\n",
    "       cost (float) : compute mean squared error of the model and returns a scalar number \n",
    "    \"\"\"\n",
    "    \n",
    "    # We are not using for loop method\n",
    "    # we use numpy operations on ndarray for faster computing\n",
    "    \n",
    "    y_predicted = w * x + b\n",
    "    \n",
    "    m = len(x) # len of dataset\n",
    "    \n",
    "    # compute cost\n",
    "    error = y_predicted - y\n",
    "    squared_error = error ** 2\n",
    "    cost = np.sum(squared_error) / (2 * m)\n",
    "    return cost"
   ]
  },
  {
   "cell_type": "code",
   "execution_count": 7,
   "metadata": {},
   "outputs": [
    {
     "data": {
      "text/plain": [
       "np.float64(7975767.925588812)"
      ]
     },
     "execution_count": 7,
     "metadata": {},
     "output_type": "execute_result"
    }
   ],
   "source": [
    "w = 135\n",
    "b = 180616\n",
    "\n",
    "cost = compute_cost(x_train, y_train, w, b)\n",
    "cost"
   ]
  }
 ],
 "metadata": {
  "kernelspec": {
   "display_name": "dsai",
   "language": "python",
   "name": "python3"
  },
  "language_info": {
   "codemirror_mode": {
    "name": "ipython",
    "version": 3
   },
   "file_extension": ".py",
   "mimetype": "text/x-python",
   "name": "python",
   "nbconvert_exporter": "python",
   "pygments_lexer": "ipython3",
   "version": "3.13.1"
  }
 },
 "nbformat": 4,
 "nbformat_minor": 2
}
