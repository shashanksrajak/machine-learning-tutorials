{
 "cells": [
  {
   "cell_type": "markdown",
   "metadata": {},
   "source": [
    "### Lab Assignment 1\n",
    "\n",
    "**Implement linear regression equation for one variable in python.**\n",
    "\n",
    "---------"
   ]
  },
  {
   "cell_type": "markdown",
   "metadata": {},
   "source": [
    "We have been given a tabular data of housing sizes and prices and we have to build a model to predict price based on size.\n",
    "\n",
    "This is one feature problem i.e. univariate linear regression."
   ]
  },
  {
   "cell_type": "markdown",
   "metadata": {},
   "source": [
    "Here we will assume some values for w and b and define a function that computes the output.\n",
    "\n",
    "$$y = wx + b$$\n",
    "\n",
    "y, x -> vectors\n",
    "\n",
    "w, b -> scalars"
   ]
  },
  {
   "cell_type": "markdown",
   "metadata": {},
   "source": [
    "***THINK***\n",
    "\n",
    "In this univariate problem, there is no dot product since w is a scalar; we have only one feature and so only one w corresponding to that x feature vector. So its just scalar multiplied with a vector.\n",
    "\n",
    "This computation can be done in two ways\n",
    "1. for loop\n",
    "2. numpy arrays"
   ]
  },
  {
   "cell_type": "code",
   "execution_count": 8,
   "metadata": {},
   "outputs": [],
   "source": [
    "import pandas as pd\n",
    "import numpy as np\n",
    "import matplotlib.pylab as plt"
   ]
  },
  {
   "cell_type": "code",
   "execution_count": 2,
   "metadata": {},
   "outputs": [],
   "source": [
    "df = pd.read_csv(\"areas.csv\")\n",
    "\n",
    "x_train = df[\"area\"]\n",
    "y_train = df[\"prices\"]"
   ]
  },
  {
   "cell_type": "code",
   "execution_count": 5,
   "metadata": {},
   "outputs": [
    {
     "name": "stdout",
     "output_type": "stream",
     "text": [
      "Shape of x_train is (13,)\n",
      "Length of our dataset is len: 13 or shape[0] 13\n"
     ]
    }
   ],
   "source": [
    "print(f\"Shape of x_train is {x_train.shape}\")\n",
    "print(f\"Length of our dataset is len: {len(x_train)} or shape[0] {x_train.shape[0]}\")"
   ]
  },
  {
   "cell_type": "markdown",
   "metadata": {},
   "source": [
    "### for loop method"
   ]
  },
  {
   "cell_type": "code",
   "execution_count": 14,
   "metadata": {},
   "outputs": [],
   "source": [
    "def compute_model_output(x, w, b):\n",
    "    m = x.shape[0]\n",
    "    y_predicted = np.zeros(m) # init a m length 1-D vector for target \n",
    "    for i in range(m):\n",
    "        y_predicted[i] = w * x[i] + b  # individual elements are being computed and stored in numpy array\n",
    "    \n",
    "    return y_predicted\n",
    "    "
   ]
  },
  {
   "cell_type": "code",
   "execution_count": 21,
   "metadata": {},
   "outputs": [],
   "source": [
    "def compute_model_output_vectorized(x, w, b):\n",
    "    \"\"\"\n",
    "    Here we are expecting x to be a numpy array, w and b scalar\n",
    "    \n",
    "    Returns\n",
    "        y: target values\n",
    "    \"\"\"\n",
    "    \n",
    "    y_predicted = np.zeros(len(x))\n",
    "    \n",
    "    #  The beauty of numpy is we can do this in one line (parallel computing)\n",
    "    # vs for loop multiple iterations\n",
    "    y_predicted = w * x + b\n",
    "    return y_predicted"
   ]
  },
  {
   "cell_type": "code",
   "execution_count": 20,
   "metadata": {},
   "outputs": [
    {
     "data": {
      "text/plain": [
       "0      315616\n",
       "1      383116\n",
       "2      491116\n",
       "3      658516\n",
       "4      736816\n",
       "5      796216\n",
       "6      921766\n",
       "7      647716\n",
       "8      821866\n",
       "9      491116\n",
       "10    1395616\n",
       "11    1341616\n",
       "12    1139116\n",
       "Name: area, dtype: int64"
      ]
     },
     "execution_count": 20,
     "metadata": {},
     "output_type": "execute_result"
    }
   ],
   "source": [
    "w = 135\n",
    "b = 180616\n",
    "\n",
    "y_predicted = compute_model_output(x_train, w, b)\n",
    "\n",
    "y_pred_vectorized = compute_model_output_vectorized(x_train, w, b)\n",
    "\n",
    "# y_predicted\n",
    "# y_pred_vectorized"
   ]
  },
  {
   "cell_type": "code",
   "execution_count": 13,
   "metadata": {},
   "outputs": [
    {
     "data": {
      "text/plain": [
       "<matplotlib.legend.Legend at 0x121a7ec10>"
      ]
     },
     "execution_count": 13,
     "metadata": {},
     "output_type": "execute_result"
    },
    {
     "data": {
      "image/png": "[encoded data removed]",
      "text/plain": [
       "<Figure size 640x480 with 1 Axes>"
      ]
     },
     "metadata": {},
     "output_type": "display_data"
    }
   ],
   "source": [
    "plt.plot(x_train, y_predicted, label=\"Predictions\", c=\"red\")\n",
    "plt.scatter(x_train, y_train, c=\"green\", marker=\"+\", label=\"True Values\")\n",
    "plt.xlabel(\"area\")\n",
    "plt.ylabel(\"price\")\n",
    "plt.legend()"
   ]
  },
  {
   "cell_type": "code",
   "execution_count": null,
   "metadata": {},
   "outputs": [],
   "source": []
  }
 ],
 "metadata": {
  "kernelspec": {
   "display_name": "dsai",
   "language": "python",
   "name": "python3"
  },
  "language_info": {
   "codemirror_mode": {
    "name": "ipython",
    "version": 3
   },
   "file_extension": ".py",
   "mimetype": "text/x-python",
   "name": "python",
   "nbconvert_exporter": "python",
   "pygments_lexer": "ipython3",
   "version": "3.13.1"
  }
 },
 "nbformat": 4,
 "nbformat_minor": 2
}
