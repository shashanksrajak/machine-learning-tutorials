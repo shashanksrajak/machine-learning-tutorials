{
 "cells": [
  {
   "cell_type": "markdown",
   "metadata": {},
   "source": [
    "### Lab Assignment 3\n",
    "\n",
    "**Implement gradient descent for a single feature linear regression problem and find the \n",
    "optimal parameters (w, b).**\n",
    "\n",
    "---------"
   ]
  },
  {
   "cell_type": "markdown",
   "metadata": {},
   "source": [
    "\n",
    "In lecture, *gradient descent* was described as:\n",
    "\n",
    "$$\\begin{align*} \\text{repeat}&\\text{ until convergence:} \\; \\lbrace \\newline\n",
    "\\;  w &= w -  \\alpha \\frac{\\partial J(w,b)}{\\partial w} \\tag{3}  \\; \\newline \n",
    " b &= b -  \\alpha \\frac{\\partial J(w,b)}{\\partial b}  \\newline \\rbrace\n",
    "\\end{align*}$$\n",
    "where, parameters $w$, $b$ are updated simultaneously.  \n",
    "The gradient is defined as:\n",
    "$$\n",
    "\\begin{align}\n",
    "\\frac{\\partial J(w,b)}{\\partial w}  &= \\frac{1}{m} \\sum\\limits_{i = 0}^{m-1} (f_{w,b}(x^{(i)}) - y^{(i)})x^{(i)} \\tag{4}\\\\\n",
    "  \\frac{\\partial J(w,b)}{\\partial b}  &= \\frac{1}{m} \\sum\\limits_{i = 0}^{m-1} (f_{w,b}(x^{(i)}) - y^{(i)}) \\tag{5}\\\\\n",
    "\\end{align}\n",
    "$$\n",
    "\n",
    "Here *simultaniously* means that you calculate the partial derivatives for all the parameters before updating any of the parameters."
   ]
  },
  {
   "cell_type": "markdown",
   "metadata": {},
   "source": [
    "We will need these functions to implement gradient descent\n",
    "1. cost function compute (already done in lab2)\n",
    "2. compute gradients for J(w, b) wrt w and b\n",
    "3. compute gradient descent"
   ]
  },
  {
   "cell_type": "code",
   "execution_count": 2,
   "metadata": {},
   "outputs": [],
   "source": [
    "import numpy as np\n",
    "import pandas as pd\n",
    "import matplotlib.pyplot as plt"
   ]
  },
  {
   "cell_type": "code",
   "execution_count": 1,
   "metadata": {},
   "outputs": [],
   "source": [
    "\n",
    "def compute_cost(x, y, w, b):\n",
    "    \"\"\"\n",
    "    Compute the cost function\n",
    "    \n",
    "    Args:\n",
    "        x (ndarray) : 1 D vector of feature\n",
    "        y (ndarray) : 1 D vector of labels\n",
    "        w,b (scalar) : parameters of model\n",
    "        \n",
    "    Returns:\n",
    "       cost (float) : compute mean squared error of the model and returns a scalar number \n",
    "    \"\"\"\n",
    "\n",
    "    # We are not using for loop method\n",
    "    # we use numpy operations on ndarray for faster computing\n",
    "\n",
    "    y_predicted = w * x + b\n",
    "\n",
    "    m = len(x)  # len of dataset\n",
    "\n",
    "    # compute cost\n",
    "    error = y_predicted - y\n",
    "    squared_error = error ** 2\n",
    "    cost = np.sum(squared_error) / (2 * m)\n",
    "    return cost"
   ]
  },
  {
   "cell_type": "code",
   "execution_count": 4,
   "metadata": {},
   "outputs": [],
   "source": [
    "def compute_gradients(x, y, w, b):\n",
    "    y_predicted = w * x + b\n",
    "    \n",
    "    m = len(x)\n",
    "    \n",
    "    # compute gradients\n",
    "    \n",
    "    error = y_predicted - y\n",
    "    \n",
    "    dj_dw = 1/m * (np.sum(error * x))\n",
    "    dj_db = 1/m * (np.sum(error))\n",
    "    \n",
    "    return dj_dw, dj_db"
   ]
  },
  {
   "cell_type": "code",
   "execution_count": 8,
   "metadata": {},
   "outputs": [],
   "source": [
    "def gradient_descent(x, y, w, b, alpha, epoch):\n",
    "    \n",
    "    # -- iterate till convergence\n",
    "    # 1 - make the prediction with w and b\n",
    "    # 2 - compute the cost\n",
    "    # 3 - calculate new w and b with gradient descent \n",
    "        # - compute_gradients and multiply with learning rate...\n",
    "        \n",
    "    # alpha, epoch are hyperparameters which are decided by us\n",
    "    \n",
    "    w_new = w\n",
    "    b_new = b\n",
    "    \n",
    "    J_history = []\n",
    "    p_history = []\n",
    "    \n",
    "    for i in range(epoch):\n",
    "        dj_dw, dj_db = compute_gradients(x, y, w_new, b_new)\n",
    "        \n",
    "        # gradient descent\n",
    "        w_new = w_new - alpha * dj_dw\n",
    "        b_new = b_new - alpha * dj_db\n",
    "        \n",
    "        if i < 100000:\n",
    "            cost = compute_cost(x, y, w_new, b_new)\n",
    "            J_history.append(cost)\n",
    "            p_history.append([w_new, b_new])\n",
    "            \n",
    "    return w_new, b_new, J_history, p_history"
   ]
  },
  {
   "cell_type": "code",
   "execution_count": 9,
   "metadata": {},
   "outputs": [],
   "source": [
    "df = pd.read_csv(\"areas.csv\")\n",
    "x_train = df[\"area\"]\n",
    "y_train = df[\"prices\"]"
   ]
  },
  {
   "cell_type": "code",
   "execution_count": null,
   "metadata": {},
   "outputs": [
    {
     "name": "stdout",
     "output_type": "stream",
     "text": [
      "Computed w : -48453.651333120026 and b : -29956.671528960018\n"
     ]
    }
   ],
   "source": [
    "w = 0\n",
    "b = 0\n",
    "\n",
    "epoch = 10000\n",
    "\n",
    "alpha = 0.01 # can change alpha to see how it impacts the descent\n",
    "\n",
    "x_train = np.array([1.0, 2.0])  # features\n",
    "y_train = np.array([300.0, 500.0])  # target value\n",
    "\n",
    "w, b, J_history, p_history =  gradient_descent(x_train, y_train, w, b, alpha, epoch)\n",
    "\n",
    "print(f\"Computed w : {w} and b : {b}\")"
   ]
  },
  {
   "cell_type": "markdown",
   "metadata": {},
   "source": [
    "### Plot the cost function with epoch\n",
    "This graph is useful in checking if our loss function is converging with increasing iterations"
   ]
  },
  {
   "cell_type": "code",
   "execution_count": null,
   "metadata": {},
   "outputs": [
    {
     "data": {
      "image/png": "[encoded data removed]",
      "text/plain": [
       "<Figure size 1200x400 with 2 Axes>"
      ]
     },
     "metadata": {},
     "output_type": "display_data"
    }
   ],
   "source": [
    "fig, (ax1, ax2) = plt.subplots(1, 2, figsize=(12, 4))\n",
    "ax1.plot(J_history[:100])\n",
    "ax2.plot(1000 + np.arange(len(J_history[1000:])), J_history)\n",
    "\n",
    "ax1.set_xlabel(\"iterations\")\n",
    "ax2.set_xlabel(\"iterations\")\n",
    "ax1.set_ylabel(\"loss\")\n",
    "ax2.set_ylabel(\"loss\")\n",
    "\n",
    "plt.show()"
   ]
  },
  {
   "cell_type": "code",
   "execution_count": null,
   "metadata": {},
   "outputs": [],
   "source": []
  }
 ],
 "metadata": {
  "kernelspec": {
   "display_name": "dsai",
   "language": "python",
   "name": "python3"
  },
  "language_info": {
   "codemirror_mode": {
    "name": "ipython",
    "version": 3
   },
   "file_extension": ".py",
   "mimetype": "text/x-python",
   "name": "python",
   "nbconvert_exporter": "python",
   "pygments_lexer": "ipython3",
   "version": "3.13.1"
  }
 },
 "nbformat": 4,
 "nbformat_minor": 2
}
