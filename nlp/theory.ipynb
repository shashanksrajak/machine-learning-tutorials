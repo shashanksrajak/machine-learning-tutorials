{
 "cells": [
  {
   "cell_type": "markdown",
   "id": "fa127166",
   "metadata": {},
   "source": [
    "## Different types of NLP Tasks\n",
    "1. **Text classification** - for example, in customer complain portal, NLP can classify complaints into different priority levels so support team can focus based on priority.\n",
    "2. **Text Similarity** - Comparing different sentences for similarity. e.g. - resume screening as per job description.\n",
    "3. **Information Extraction** - like in gmail showing flight key information in the flight ticket email.\n",
    "4. **Information Retrieval** - google search figures out results as per my location - best food places near me\n",
    "5. **Chat Bots** - \n",
    "6. **Translation**\n",
    "7. **Language Modelling** - autocomplete sentences\n",
    "8. **Text Summarization**"
   ]
  },
  {
   "cell_type": "markdown",
   "id": "94e0da32",
   "metadata": {},
   "source": [
    "## NLP Pipeline\n",
    "\n"
   ]
  },
  {
   "cell_type": "markdown",
   "id": "3a2149c8",
   "metadata": {},
   "source": []
  }
 ],
 "metadata": {
  "language_info": {
   "name": "python"
  }
 },
 "nbformat": 4,
 "nbformat_minor": 5
}
