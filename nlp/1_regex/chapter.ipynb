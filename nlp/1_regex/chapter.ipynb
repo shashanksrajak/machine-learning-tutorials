{
 "cells": [
  {
   "cell_type": "markdown",
   "id": "6a5d9670",
   "metadata": {},
   "source": [
    "## Regex in Python"
   ]
  },
  {
   "cell_type": "markdown",
   "id": "014b51bf",
   "metadata": {},
   "source": [
    "In NLP, Regex is super important. Sometimes Regex itself is sufficient to solve the problem instead of using some fancy models. \n",
    "e.g. gmail showing flight information on top of ticket email - uses regex (pattern matching)\n",
    "\n",
    "Our goal is to extract useful information from texts using pattern matching.\n",
    "\n",
    "Use this webstie for regex playground\n",
    "[Regex 101](https://regex101.com)\n",
    "\n",
    "Think of it like finding patterns from noise, a user in a chatbot conversation can write like in many ways, but the underlying message (say email, phone) will always have some recognizable patterns and we are concerned about this information out of all the things user is writing.\n",
    "\n",
    "Youtube lecture \n",
    "\n",
    "[codebasics](https://www.youtube.com/watch?v=lK9gx4q_vfI&list=PLeo1K3hjS3uuvuAXhYjV2lMEShq2UYSwX&index=3&t=2477s)"
   ]
  },
  {
   "cell_type": "code",
   "execution_count": 1,
   "id": "14c2d45e",
   "metadata": {},
   "outputs": [],
   "source": [
    "import re"
   ]
  },
  {
   "cell_type": "markdown",
   "id": "04b46966",
   "metadata": {},
   "source": [
    "### Example 1"
   ]
  },
  {
   "cell_type": "code",
   "execution_count": 12,
   "id": "58b8c9a4",
   "metadata": {},
   "outputs": [],
   "source": [
    "chat1 = 'codebasics: you ask lot of questions 😠  1235678912, abc@xyz.com, abc1@yahoo.com'\n",
    "chat2 = 'codebasics: here it is: (123)-567-8912, abc@xyz.com'\n",
    "chat3 = 'codebasics: yes, phone: 1235678912 email: abc@xyz.com'"
   ]
  },
  {
   "cell_type": "code",
   "execution_count": 13,
   "id": "13ae3429",
   "metadata": {},
   "outputs": [
    {
     "name": "stdout",
     "output_type": "stream",
     "text": [
      "matches in chat1 ['1235678912']\n",
      "matches in chat2 []\n",
      "matches in chat2 ['(123)-567-8912']\n"
     ]
    }
   ],
   "source": [
    "pattern = r'\\d{10}' # if we dont add r; we get a warning for escape characters; though not an error\n",
    "\n",
    "matches = re.findall(pattern, chat1)\n",
    "\n",
    "print('matches in chat1', matches)\n",
    "\n",
    "matches = re.findall(pattern, chat2)\n",
    "print('matches in chat2', matches)\n",
    "\n",
    "# lets catch all the phone numbers w different patterns\n",
    "pattern = r\"\\(\\d{3}\\)-\\d{3}-\\d{4}|\\d{10}\"\n",
    "matches = re.findall(pattern, chat2)\n",
    "print('matches in chat2', matches)"
   ]
  },
  {
   "cell_type": "code",
   "execution_count": 14,
   "id": "dd69854c",
   "metadata": {},
   "outputs": [
    {
     "name": "stdout",
     "output_type": "stream",
     "text": [
      "matches in chat1 ['abc@xyz.com', 'abc1@yahoo.com']\n"
     ]
    }
   ],
   "source": [
    "email_pattern = r'[a-zA-Z0-9_]*@[a-z0-9A-Z]*\\.[a-zA-Z]*'\n",
    "\n",
    "matches = re.findall(email_pattern, chat1)\n",
    "print('matches in chat1', matches)"
   ]
  },
  {
   "cell_type": "markdown",
   "id": "b807b42a",
   "metadata": {},
   "source": [
    "### Example 2"
   ]
  },
  {
   "cell_type": "code",
   "execution_count": 16,
   "id": "9a2cb1df",
   "metadata": {},
   "outputs": [],
   "source": [
    "chat1 = 'codebasics: Hello, I am having an issue with my order # 412889912'\n",
    "chat2 = 'codebasics: I have a problem with my order number 412889912'\n",
    "chat3 = 'codebasics: My order 412889912 is having an issue, I was charged 300$ when online it says 280$'"
   ]
  },
  {
   "cell_type": "code",
   "execution_count": 20,
   "id": "cb2935ea",
   "metadata": {},
   "outputs": [
    {
     "name": "stdout",
     "output_type": "stream",
     "text": [
      "order id in chat1 ['412889912']\n",
      "order id in chat2 ['412889912']\n"
     ]
    }
   ],
   "source": [
    "pattern_order_id = r'order[^\\d]*(\\d*)'\n",
    "\n",
    "def find_order_id(chat):\n",
    "    return re.findall(pattern_order_id, chat)\n",
    "\n",
    "\n",
    "print('order id in chat1', find_order_id(chat1)\n",
    "      )\n",
    "\n",
    "print('order id in chat2', find_order_id(chat2))"
   ]
  },
  {
   "cell_type": "markdown",
   "id": "da90df39",
   "metadata": {},
   "source": [
    "### Information Extraction"
   ]
  },
  {
   "cell_type": "code",
   "execution_count": 23,
   "id": "d4fa799c",
   "metadata": {},
   "outputs": [
    {
     "name": "stdout",
     "output_type": "stream",
     "text": [
      "Age :  ['37']\n",
      "Birthdate ['5 November 1988']\n"
     ]
    }
   ],
   "source": [
    "\n",
    "text = '''\n",
    "Born\t5 November 1988 (age 37)\n",
    "Delhi, India\n",
    "Nickname\tCheeku [a]\n",
    "King Kohli [2]\n",
    "Chase Master [3]\n",
    "Run Machine\n",
    "Height\t5 ft 9 in (175 cm)[4]\n",
    "Batting\tRight-handed\n",
    "Bowling\tRight-arm medium\n",
    "Role\tTop-order batter\n",
    "Relations\tAnushka Sharma ​(m. 2017)​\n",
    "Website\tVK Foundation\n",
    "'''\n",
    "\n",
    "def find_age(text):\n",
    "    pattern_age = r'age (\\d+)' # + vs * ; + is 1 or more and * is 0 or more\n",
    "    age = re.findall(pattern_age, text)\n",
    "    print(\"Age : \", age)\n",
    "def find_birth_date(text):\n",
    "    pattern_birthdate = r'Born\\s(\\d{1,2}\\s[a-zA-Z]*\\s\\d{2,4})'\n",
    "    birthdate = re.findall(pattern_birthdate, text)\n",
    "    print('Birthdate', birthdate)\n",
    "    \n",
    "find_age(text)\n",
    "\n",
    "find_birth_date(text)"
   ]
  },
  {
   "cell_type": "code",
   "execution_count": null,
   "id": "5331378a",
   "metadata": {},
   "outputs": [],
   "source": []
  }
 ],
 "metadata": {
  "kernelspec": {
   "display_name": "dsai",
   "language": "python",
   "name": "python3"
  },
  "language_info": {
   "codemirror_mode": {
    "name": "ipython",
    "version": 3
   },
   "file_extension": ".py",
   "mimetype": "text/x-python",
   "name": "python",
   "nbconvert_exporter": "python",
   "pygments_lexer": "ipython3",
   "version": "3.13.1"
  }
 },
 "nbformat": 4,
 "nbformat_minor": 5
}
