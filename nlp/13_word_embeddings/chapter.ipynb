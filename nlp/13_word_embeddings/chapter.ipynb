{
 "cells": [
  {
   "cell_type": "code",
   "execution_count": 1,
   "id": "99f05418",
   "metadata": {},
   "outputs": [],
   "source": [
    "import spacy\n",
    "\n",
    "# word vectors occupy lot of space, then sm model does not have vectors, need to download lg one\n",
    "nlp = spacy.load(\"en_core_web_lg\")"
   ]
  },
  {
   "cell_type": "code",
   "execution_count": 6,
   "id": "afac429e",
   "metadata": {},
   "outputs": [
    {
     "name": "stdout",
     "output_type": "stream",
     "text": [
      "dog True False\n",
      "cat True False\n",
      "banana True False\n",
      "askjsfkjh False True\n",
      "shashank True False\n",
      "sayali False True\n"
     ]
    }
   ],
   "source": [
    "doc = nlp(\"dog cat banana askjsfkjh shashank sayali\")\n",
    "\n",
    "for token in doc:\n",
    "    print(token.text, token.has_vector, token.is_oov)"
   ]
  },
  {
   "cell_type": "code",
   "execution_count": 8,
   "id": "1d77c9f4",
   "metadata": {},
   "outputs": [
    {
     "data": {
      "text/plain": [
       "(300,)"
      ]
     },
     "execution_count": 8,
     "metadata": {},
     "output_type": "execute_result"
    }
   ],
   "source": [
    "doc[4].vector.shape"
   ]
  },
  {
   "cell_type": "code",
   "execution_count": 9,
   "id": "5a83c2d0",
   "metadata": {},
   "outputs": [
    {
     "data": {
      "text/plain": [
       "(300,)"
      ]
     },
     "execution_count": 9,
     "metadata": {},
     "output_type": "execute_result"
    }
   ],
   "source": [
    "base_token = nlp(\"bread\")\n",
    "\n",
    "base_token[0].vector.shape"
   ]
  },
  {
   "cell_type": "markdown",
   "id": "c324a54b",
   "metadata": {},
   "source": [
    "The vector is having 300 features."
   ]
  },
  {
   "cell_type": "code",
   "execution_count": 10,
   "id": "f36aa809",
   "metadata": {},
   "outputs": [
    {
     "name": "stdout",
     "output_type": "stream",
     "text": [
      "bread <-> bread: 0.9999997019767761\n",
      "sandwich <-> bread: 0.6874560713768005\n",
      "burger <-> bread: 0.544037401676178\n",
      "car <-> bread: 0.16441145539283752\n",
      "tiger <-> bread: 0.144923597574234\n",
      "human <-> bread: 0.21103662252426147\n",
      "wheat <-> bread: 0.657245397567749\n"
     ]
    }
   ],
   "source": [
    "doc = nlp(\"bread sandwich burger car tiger human wheat\")\n",
    "\n",
    "for token in doc:\n",
    "    print(f\"{token.text} <-> {base_token.text}:\", token.similarity(base_token))"
   ]
  },
  {
   "cell_type": "code",
   "execution_count": 11,
   "id": "9dbfe0b1",
   "metadata": {},
   "outputs": [],
   "source": [
    "def print_similarity(base_word, words_to_compare):\n",
    "    base_token = nlp(base_word)\n",
    "    doc = nlp(words_to_compare)\n",
    "    for token in doc:\n",
    "        print(f\"{token.text} <-> {base_token.text}: \",\n",
    "              token.similarity(base_token))"
   ]
  },
  {
   "cell_type": "code",
   "execution_count": 13,
   "id": "cebc934b",
   "metadata": {},
   "outputs": [
    {
     "name": "stdout",
     "output_type": "stream",
     "text": [
      "apple <-> iphone:  0.6339781284332275\n",
      "samsung <-> iphone:  0.6678677797317505\n",
      "iphone <-> iphone:  0.9999998211860657\n",
      "dog <-> iphone:  0.17431041598320007\n",
      "kitten <-> iphone:  0.1468580812215805\n",
      "banana <-> iphone:  0.19600532948970795\n"
     ]
    }
   ],
   "source": [
    "print_similarity(\"iphone\", \"apple samsung iphone dog kitten banana\")"
   ]
  },
  {
   "cell_type": "code",
   "execution_count": 14,
   "id": "3c678e1f",
   "metadata": {},
   "outputs": [
    {
     "name": "stdout",
     "output_type": "stream",
     "text": [
      "apple <-> apple:  0.9999999403953552\n",
      "samsung <-> apple:  0.4560531973838806\n",
      "iphone <-> apple:  0.6339781284332275\n",
      "dog <-> apple:  0.2633902132511139\n",
      "kitten <-> apple:  0.230901837348938\n",
      "banana <-> apple:  0.5831843018531799\n"
     ]
    }
   ],
   "source": [
    "print_similarity(\"apple\", \"apple samsung iphone dog kitten banana\")"
   ]
  },
  {
   "cell_type": "code",
   "execution_count": null,
   "id": "b15c7440",
   "metadata": {},
   "outputs": [],
   "source": []
  }
 ],
 "metadata": {
  "kernelspec": {
   "display_name": "deeplearning",
   "language": "python",
   "name": "python3"
  },
  "language_info": {
   "codemirror_mode": {
    "name": "ipython",
    "version": 3
   },
   "file_extension": ".py",
   "mimetype": "text/x-python",
   "name": "python",
   "nbconvert_exporter": "python",
   "pygments_lexer": "ipython3",
   "version": "3.12.9"
  }
 },
 "nbformat": 4,
 "nbformat_minor": 5
}
