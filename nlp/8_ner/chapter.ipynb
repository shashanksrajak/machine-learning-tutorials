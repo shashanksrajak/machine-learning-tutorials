{
 "cells": [
  {
   "cell_type": "markdown",
   "id": "a0d96f98",
   "metadata": {},
   "source": [
    "## NER (Named Entity Recognition)\n",
    "Named Entity Recognition (NER) is a subtask of Natural Language Processing (NLP) that involves identifying and classifying entities in text into predefined categories such as names of persons, organizations, locations, dates, and more. It is widely used in applications like information extraction, question answering, and text summarization.\n"
   ]
  },
  {
   "cell_type": "code",
   "execution_count": 1,
   "id": "15a2742b",
   "metadata": {},
   "outputs": [],
   "source": [
    "import spacy\n",
    "\n",
    "nlp = spacy.load('en_core_web_sm')"
   ]
  },
  {
   "cell_type": "code",
   "execution_count": 2,
   "id": "490f68ef",
   "metadata": {},
   "outputs": [
    {
     "data": {
      "text/plain": [
       "['tok2vec', 'tagger', 'parser', 'attribute_ruler', 'lemmatizer', 'ner']"
      ]
     },
     "execution_count": 2,
     "metadata": {},
     "output_type": "execute_result"
    }
   ],
   "source": [
    "nlp.pipe_names"
   ]
  },
  {
   "cell_type": "code",
   "execution_count": 8,
   "id": "068eea0f",
   "metadata": {},
   "outputs": [
    {
     "name": "stdout",
     "output_type": "stream",
     "text": [
      "Tesla inc | ORG | Companies, agencies, institutions, etc.\n",
      "Twitter inc | ORG | Companies, agencies, institutions, etc.\n",
      "$45 billion | MONEY | Monetary values, including unit\n"
     ]
    }
   ],
   "source": [
    "# doc = nlp(\"Tesla inc is going to acquire twitter inc for $45 billion\")\n",
    "# doc = nlp(\"Tesla inc is going to acquire twitter for $45 billion\")\n",
    "\n",
    "doc = nlp(\"Tesla inc is going to acquire Twitter inc for $45 billion\")\n",
    "\n",
    "\n",
    "for ent in doc.ents:\n",
    "    print(ent.text, \"|\", ent.label_, \"|\", spacy.explain(ent.label_))"
   ]
  },
  {
   "cell_type": "code",
   "execution_count": 9,
   "id": "7166beea",
   "metadata": {},
   "outputs": [
    {
     "data": {
      "text/plain": [
       "['CARDINAL',\n",
       " 'DATE',\n",
       " 'EVENT',\n",
       " 'FAC',\n",
       " 'GPE',\n",
       " 'LANGUAGE',\n",
       " 'LAW',\n",
       " 'LOC',\n",
       " 'MONEY',\n",
       " 'NORP',\n",
       " 'ORDINAL',\n",
       " 'ORG',\n",
       " 'PERCENT',\n",
       " 'PERSON',\n",
       " 'PRODUCT',\n",
       " 'QUANTITY',\n",
       " 'TIME',\n",
       " 'WORK_OF_ART']"
      ]
     },
     "execution_count": 9,
     "metadata": {},
     "output_type": "execute_result"
    }
   ],
   "source": [
    "nlp.pipe_labels['ner']"
   ]
  },
  {
   "cell_type": "code",
   "execution_count": 19,
   "id": "f06ed75b",
   "metadata": {},
   "outputs": [
    {
     "name": "stdout",
     "output_type": "stream",
     "text": [
      "Apple | ORG\n",
      "Apple | ORG\n",
      "daily | DATE\n"
     ]
    }
   ],
   "source": [
    "doc = nlp('Apple is a mobile company. Apple is good for health, we should eat it daily.')\n",
    "\n",
    "for ent in doc.ents:\n",
    "    print(ent, \"|\", ent.label_)"
   ]
  },
  {
   "cell_type": "markdown",
   "id": "83f3e955",
   "metadata": {},
   "source": [
    "### Span"
   ]
  },
  {
   "cell_type": "code",
   "execution_count": 12,
   "id": "53867ca8",
   "metadata": {},
   "outputs": [
    {
     "data": {
      "text/plain": [
       "Apple is a mobile company. Apple is good for health, we should eat it daily."
      ]
     },
     "execution_count": 12,
     "metadata": {},
     "output_type": "execute_result"
    }
   ],
   "source": [
    "doc"
   ]
  },
  {
   "cell_type": "code",
   "execution_count": 14,
   "id": "137623fe",
   "metadata": {},
   "outputs": [
    {
     "name": "stdout",
     "output_type": "stream",
     "text": [
      "a mobile company.\n",
      "<class 'spacy.tokens.span.Span'>\n"
     ]
    }
   ],
   "source": [
    "print(doc[2:6])\n",
    "print(type(doc[2:6]))"
   ]
  },
  {
   "cell_type": "code",
   "execution_count": 16,
   "id": "bbbc0be4",
   "metadata": {},
   "outputs": [],
   "source": [
    "from spacy.tokens import Span\n",
    "\n",
    "s1 = Span(doc, 0, 1, label=\"ORG\")\n",
    "s2 = Span(doc, 6, 7, label=\"ORG\")\n",
    "\n",
    "doc.set_ents([s1, s2], default=\"unmodified\")"
   ]
  },
  {
   "cell_type": "code",
   "execution_count": 17,
   "id": "a5cba3d4",
   "metadata": {},
   "outputs": [
    {
     "name": "stdout",
     "output_type": "stream",
     "text": [
      "Apple | ORG\n",
      "Apple | ORG\n",
      "daily | DATE\n"
     ]
    }
   ],
   "source": [
    "for ent in doc.ents:\n",
    "    print(ent, \"|\", ent.label_)"
   ]
  }
 ],
 "metadata": {
  "kernelspec": {
   "display_name": "deeplearning",
   "language": "python",
   "name": "python3"
  },
  "language_info": {
   "codemirror_mode": {
    "name": "ipython",
    "version": 3
   },
   "file_extension": ".py",
   "mimetype": "text/x-python",
   "name": "python",
   "nbconvert_exporter": "python",
   "pygments_lexer": "ipython3",
   "version": "3.12.9"
  }
 },
 "nbformat": 4,
 "nbformat_minor": 5
}
