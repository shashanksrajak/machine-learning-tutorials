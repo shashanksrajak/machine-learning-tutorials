{
 "cells": [
  {
   "cell_type": "markdown",
   "id": "56a53fa1",
   "metadata": {},
   "source": [
    "## Parts of Speech"
   ]
  },
  {
   "cell_type": "code",
   "execution_count": 1,
   "id": "7cfd11f0",
   "metadata": {},
   "outputs": [],
   "source": [
    "import spacy"
   ]
  },
  {
   "cell_type": "code",
   "execution_count": 8,
   "id": "e163a3f4",
   "metadata": {},
   "outputs": [
    {
     "name": "stdout",
     "output_type": "stream",
     "text": [
      "Elon  | Pos: PROPN proper noun  | tag: NNP noun, proper singular\n",
      "flew  | Pos: VERB verb  | tag: VBD verb, past tense\n",
      "to  | Pos: ADP adposition  | tag: IN conjunction, subordinating or preposition\n",
      "mars  | Pos: NOUN noun  | tag: NNS noun, plural\n",
      "yesterday  | Pos: NOUN noun  | tag: NN noun, singular or mass\n",
      ".  | Pos: PUNCT punctuation  | tag: . punctuation mark, sentence closer\n",
      "He  | Pos: PRON pronoun  | tag: PRP pronoun, personal\n",
      "carried  | Pos: VERB verb  | tag: VBD verb, past tense\n",
      "biryani  | Pos: ADJ adjective  | tag: JJ adjective (English), other noun-modifier (Chinese)\n",
      "masala  | Pos: NOUN noun  | tag: NN noun, singular or mass\n",
      "with  | Pos: ADP adposition  | tag: IN conjunction, subordinating or preposition\n",
      "him  | Pos: PRON pronoun  | tag: PRP pronoun, personal\n"
     ]
    }
   ],
   "source": [
    "nlp = spacy.load(\"en_core_web_sm\")\n",
    "\n",
    "doc = nlp(\"Elon flew to mars yesterday. He carried biryani masala with him\")\n",
    "\n",
    "for token in doc:\n",
    "    print(token, \" | Pos:\", token.pos_, spacy.explain(token.pos_), \" | tag:\", token.tag_, spacy.explain(token.tag_))"
   ]
  },
  {
   "cell_type": "code",
   "execution_count": 6,
   "id": "5c3471cc",
   "metadata": {},
   "outputs": [
    {
     "data": {
      "text/plain": [
       "['tok2vec', 'tagger', 'parser', 'attribute_ruler', 'lemmatizer', 'ner']"
      ]
     },
     "execution_count": 6,
     "metadata": {},
     "output_type": "execute_result"
    }
   ],
   "source": [
    "nlp.pipe_names"
   ]
  },
  {
   "cell_type": "code",
   "execution_count": null,
   "id": "20529475",
   "metadata": {},
   "outputs": [
    {
     "data": {
      "text/plain": [
       "{96: 1, 100: 2, 85: 2, 92: 3, 97: 1, 95: 2, 84: 1}"
      ]
     },
     "execution_count": 10,
     "metadata": {},
     "output_type": "execute_result"
    }
   ],
   "source": [
    "\n",
    "doc.count_by(spacy.attrs.POS)"
   ]
  },
  {
   "cell_type": "code",
   "execution_count": 11,
   "id": "9733415a",
   "metadata": {},
   "outputs": [
    {
     "data": {
      "text/plain": [
       "'PROPN'"
      ]
     },
     "execution_count": 11,
     "metadata": {},
     "output_type": "execute_result"
    }
   ],
   "source": [
    "doc.vocab[96].text"
   ]
  },
  {
   "cell_type": "markdown",
   "id": "6e7d53ce",
   "metadata": {},
   "source": [
    "## Exercise"
   ]
  },
  {
   "cell_type": "markdown",
   "id": "253d9d5e",
   "metadata": {},
   "source": [
    "Exercise for Spacy POS tutorial,\n",
    "\n",
    "You are parsing a news story from cnbc.com. News story is stores in `news_story.txt` which is available in this same folder\n",
    "\n",
    "You need to, \n",
    "1. Extract all NOUN tokens from this story. You will have to read the file in python first to collect all the text and then extract NOUNs in a python list\n",
    "2. Extract all numbers (NUM POS type) in a python list\n",
    "3. Print a count of all POS tags in this story"
   ]
  },
  {
   "cell_type": "code",
   "execution_count": 28,
   "id": "25177f93",
   "metadata": {},
   "outputs": [
    {
     "data": {
      "text/plain": [
       "['Inflation rose again in April, continuing a climb that has pushed consumers to the brink and is threatening the economic expansion, the Bureau of Labor Statistics reported Wednesday.\\n',\n",
       " '\\n',\n",
       " 'The consumer price index, a broad-based measure of prices for goods and services, increased 8.3% from a year ago, higher than the Dow Jones estimate for an 8.1% gain. That represented a slight ease from March’s peak but was still close to the highest level since the summer of 1982.\\n',\n",
       " '\\n',\n",
       " 'Removing volatile food and energy prices, so-called core CPI still rose 6.2%, against expectations for a 6% gain, clouding hopes that inflation had peaked in March.\\n',\n",
       " '\\n',\n",
       " 'The month-over-month gains also were higher than expectations — 0.3% on headline CPI versus the 0.2% estimate and a 0.6% increase for core, against the outlook for a 0.4% gain.\\n',\n",
       " '\\n',\n",
       " 'The price gains also meant that workers continued to lose ground. Real wages adjusted for inflation decreased 0.1% on the month despite a nominal increase of 0.3% in average hourly earnings. Over the past year, real earnings have dropped 2.6% even though average hourly earnings are up 5.5%.\\n',\n",
       " '\\n',\n",
       " 'Inflation has been the single biggest threat to a recovery that began early in the Covid pandemic and saw the economy in 2021 stage its biggest single-year growth level since 1984. Rising prices at the pump and in grocery stores have been one problem, but inflation has spread beyond those two areas into housing, auto sales and a host of other areas.\\n',\n",
       " '\\n',\n",
       " 'Federal Reserve officials have responded to the problem with two interest rate hikes so far this year and pledges of more until inflation comes down to the central bank’s 2% goal. However, Wednesday’s data shows that the Fed has a big job ahead.\\n',\n",
       " '\\n',\n",
       " 'Credits: cnbc.com']"
      ]
     },
     "execution_count": 28,
     "metadata": {},
     "output_type": "execute_result"
    }
   ],
   "source": [
    "try:\n",
    "    with open(\"news_story.txt\", \"r\") as f:\n",
    "        text = f.readlines()    \n",
    "except:\n",
    "    print(\"Error opening file\")\n",
    "text"
   ]
  },
  {
   "cell_type": "code",
   "execution_count": 29,
   "id": "5a9d0d06",
   "metadata": {},
   "outputs": [
    {
     "data": {
      "text/plain": [
       "'Inflation rose again in April, continuing a climb that has pushed consumers to the brink and is threatening the economic expansion, the Bureau of Labor Statistics reported Wednesday.\\n'"
      ]
     },
     "execution_count": 29,
     "metadata": {},
     "output_type": "execute_result"
    }
   ],
   "source": [
    "text[0]"
   ]
  },
  {
   "cell_type": "code",
   "execution_count": 31,
   "id": "bcf8dfe5",
   "metadata": {},
   "outputs": [
    {
     "data": {
      "text/plain": [
       "'Inflation rose again in April, continuing a climb that has pushed consumers to the brink and is threatening the economic expansion, the Bureau of Labor Statistics reported Wednesday.\\n \\n The consumer price index, a broad-based measure of prices for goods and services, increased 8.3% from a year ago, higher than the Dow Jones estimate for an 8.1% gain. That represented a slight ease from March’s peak but was still close to the highest level since the summer of 1982.\\n \\n Removing volatile food and energy prices, so-called core CPI still rose 6.2%, against expectations for a 6% gain, clouding hopes that inflation had peaked in March.\\n \\n The month-over-month gains also were higher than expectations — 0.3% on headline CPI versus the 0.2% estimate and a 0.6% increase for core, against the outlook for a 0.4% gain.\\n \\n The price gains also meant that workers continued to lose ground. Real wages adjusted for inflation decreased 0.1% on the month despite a nominal increase of 0.3% in average hourly earnings. Over the past year, real earnings have dropped 2.6% even though average hourly earnings are up 5.5%.\\n \\n Inflation has been the single biggest threat to a recovery that began early in the Covid pandemic and saw the economy in 2021 stage its biggest single-year growth level since 1984. Rising prices at the pump and in grocery stores have been one problem, but inflation has spread beyond those two areas into housing, auto sales and a host of other areas.\\n \\n Federal Reserve officials have responded to the problem with two interest rate hikes so far this year and pledges of more until inflation comes down to the central bank’s 2% goal. However, Wednesday’s data shows that the Fed has a big job ahead.\\n \\n Credits: cnbc.com'"
      ]
     },
     "execution_count": 31,
     "metadata": {},
     "output_type": "execute_result"
    }
   ],
   "source": [
    "source_text = \" \".join(text)\n",
    "\n",
    "source_text"
   ]
  },
  {
   "cell_type": "code",
   "execution_count": 32,
   "id": "b05796ec",
   "metadata": {},
   "outputs": [],
   "source": [
    "doc = nlp(source_text)"
   ]
  },
  {
   "cell_type": "code",
   "execution_count": 41,
   "id": "755bb71b",
   "metadata": {},
   "outputs": [
    {
     "name": "stdout",
     "output_type": "stream",
     "text": [
      "Nouns ['Inflation', 'climb', 'consumers', 'brink', 'expansion', 'consumer', 'price', 'index', 'measure', 'prices', 'goods', 'services', '%', 'year', 'estimate', '%', 'gain', 'ease', 'peak', 'level', 'summer', 'food', 'energy', 'prices', 'core', '%', 'expectations', '%', 'gain', 'hopes', 'inflation', 'month', 'month', 'gains', 'expectations', '%', 'headline', '%', 'estimate', '%', 'increase', 'core', 'outlook', '%', 'gain', 'price', 'gains', 'workers', 'ground', 'wages', 'inflation', '%', 'month', 'increase', '%', 'earnings', 'year', 'earnings', '%', 'earnings', '%', 'threat', 'recovery', 'pandemic', 'economy', 'stage', 'year', 'growth', 'level', 'prices', 'pump', 'grocery', 'stores', 'problem', 'inflation', 'areas', 'housing', 'auto', 'sales', 'host', 'areas', 'officials', 'problem', 'interest', 'rate', 'hikes', 'year', 'pledges', 'inflation', 'bank', '%', 'goal', 'data', 'job', 'Credits']\n",
      "Numbers ['8.3', '8.1', '1982', '6.2', '6', '0.3', '0.2', '0.6', '0.4', '0.1', '0.3', '2.6', '5.5', '2021', '1984', 'one', 'two', 'two', '2']\n"
     ]
    }
   ],
   "source": [
    "nouns = []\n",
    "numbers = []\n",
    "\n",
    "for token in doc:\n",
    "    if token.pos_ == \"NOUN\":\n",
    "        nouns.append(token.text)\n",
    "    if token.pos_ == 'NUM':\n",
    "        numbers.append(token.text)\n",
    "\n",
    "\n",
    "print(\"Nouns\", nouns)\n",
    "print(\"Numbers\", numbers)\n",
    "    \n",
    "        "
   ]
  },
  {
   "cell_type": "code",
   "execution_count": 39,
   "id": "bf72eca8",
   "metadata": {},
   "outputs": [
    {
     "name": "stdout",
     "output_type": "stream",
     "text": [
      "NOUN  :  95\n",
      "VERB  :  27\n",
      "ADV  :  15\n",
      "ADP  :  39\n",
      "PROPN  :  17\n",
      "PUNCT  :  32\n",
      "DET  :  34\n",
      "PRON  :  4\n",
      "AUX  :  13\n",
      "CCONJ  :  10\n",
      "ADJ  :  23\n",
      "SPACE  :  7\n",
      "NUM  :  19\n",
      "PART  :  4\n",
      "SCONJ  :  8\n",
      "X  :  1\n"
     ]
    }
   ],
   "source": [
    "\n",
    "\n",
    "pos_count = doc.count_by(spacy.attrs.POS)\n",
    "\n",
    "for k, v in pos_count.items():\n",
    "    print(doc.vocab[k].text, \" : \", v)"
   ]
  }
 ],
 "metadata": {
  "kernelspec": {
   "display_name": "deeplearning",
   "language": "python",
   "name": "python3"
  },
  "language_info": {
   "codemirror_mode": {
    "name": "ipython",
    "version": 3
   },
   "file_extension": ".py",
   "mimetype": "text/x-python",
   "name": "python",
   "nbconvert_exporter": "python",
   "pygments_lexer": "ipython3",
   "version": "3.12.9"
  }
 },
 "nbformat": 4,
 "nbformat_minor": 5
}
